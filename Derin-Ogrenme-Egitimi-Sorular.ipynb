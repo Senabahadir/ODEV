{
 "cells": [
  {
   "cell_type": "markdown",
   "metadata": {},
   "source": [
    "# Derin Ogrenme Egitimi Soru Sayfası"
   ]
  },
  {
   "cell_type": "markdown",
   "metadata": {},
   "source": [
    "Merhaba değerli katılımcı, kursa başvurun için ilk önce bu repoyu bilgisayarına indirip jupyter notebook ile çalıştırman gerekiyor, bu işlemleri tamamlaman için sana hiçbir yönerge vermiyoruz, çünkü burada amacımız hali hazırda senin bu işlemleri bilip bilmediğini yahut bunları kendi başına öğrenebiliyor musun buna bakmak. Hazırsan senin için de her şeyi hazırladık.\n"
   ]
  },
  {
   "cell_type": "markdown",
   "metadata": {},
   "source": [
    "Bu test sayfası bir akış halinde hazırlandı, cevaplayabildiğin soruları cevapladıktan sonra kaydedip bize göndermen gerekiyor.\n",
    "Hepsini tamamlamak zorunda değilsin, fakat yapamadığın kısımlar üzerinde araştırarak yeni şeylere ne kadar iyi adapte oluyorsun bunu da görmüş olacaksın.\n",
    "\n",
    "Eğer şuan buradaysan zaten yolun büyük bir kısmını halletmişsin demektir, dosyanı sağ üst taraftaki file menüsünde \"download as\" sekmesinden \".ipynb\" uzantılı olarak indirdikten sonra [Uludag Deep Learning mail adresi](mailto:uludagdeeplearning@gmail.com) gönderebilirsin. Eğer github sayfası açıp ödevini oraya yükledikten sonra ilgili linki bize gönderirsen ekstra puan alacaksın. \n",
    "\n",
    "Ödevin son kısmında opsiyonel bir bölüm daha var, gerçekten zor bir bölüm olduğundan emin olabilirsin, son bölümü seçiciliği artırmak için koyuyoruz, şayet çözersen bu senin için ekstra puan demek.\n",
    "\n",
    "Buradaki her bir satıra hücre deniyor, shift+enter kombinasyonuyla hücreleri çalıştırabilirsin. \"Sen zaten bunu biz söylemeden de basitçe çözebilirdin.\""
   ]
  },
  {
   "cell_type": "code",
   "execution_count": 4,
   "metadata": {},
   "outputs": [
    {
     "name": "stdout",
     "output_type": "stream",
     "text": [
      "Isminizi Girin= Sena BAHADIROGLU\n"
     ]
    }
   ],
   "source": [
    "isim = input(\"Isminizi Girin= \")\n"
   ]
  },
  {
   "cell_type": "code",
   "execution_count": 5,
   "metadata": {},
   "outputs": [
    {
     "name": "stdout",
     "output_type": "stream",
     "text": [
      "Hosgeldin Sena BAHADIROGLU, öncelikle burada olduğun için çok mutluyuz, seni bu test ile karşılaştırdığımız için biz de üzgünüz fakat adil bir seçim yapmamız gerekiyor.\n"
     ]
    }
   ],
   "source": [
    "print(\"Hosgeldin {}, öncelikle burada olduğun için çok mutluyuz, seni bu test ile karşılaştırdığımız için biz de üzgünüz fakat adil bir seçim yapmamız gerekiyor.\".format(isim))"
   ]
  },
  {
   "cell_type": "markdown",
   "metadata": {},
   "source": [
    "## Python"
   ]
  },
  {
   "cell_type": "code",
   "execution_count": 6,
   "metadata": {},
   "outputs": [],
   "source": [
    "#İleri kullanacağımız fonksiyonlar için bu hücreyi çalıştırın\n",
    "\n",
    "import numpy as np\n",
    "import math"
   ]
  },
  {
   "cell_type": "markdown",
   "metadata": {},
   "source": [
    "### Soru 0:\n",
    "\n",
    "Python Versiyonunuzu Yazdırın."
   ]
  },
  {
   "cell_type": "code",
   "execution_count": 7,
   "metadata": {},
   "outputs": [
    {
     "name": "stdout",
     "output_type": "stream",
     "text": [
      "3.7.2 (default, Dec 29 2018, 06:19:36) \n",
      "[GCC 7.3.0]\n"
     ]
    }
   ],
   "source": [
    "import sys\n",
    "\n",
    "print(sys.version)"
   ]
  },
  {
   "cell_type": "markdown",
   "metadata": {},
   "source": [
    "### Soru 1:\n",
    "\n",
    "Telefon numaranızın son hanesindeki rakamdan başlayarak, son iki hanesindeki sayıya kadar devam eden bir liste oluşturun, bu listedeki sayıların ortalamasını ve toplamını yazdırın. (son iki hane sayısı 10'dan küçük olanlar için verilecek değer 70'dir.)"
   ]
  },
  {
   "cell_type": "code",
   "execution_count": 8,
   "metadata": {},
   "outputs": [
    {
     "name": "stdout",
     "output_type": "stream",
     "text": [
      "Telefon Numarınızı Girin= 5312194590\n"
     ]
    }
   ],
   "source": [
    "no = int(input(\"Telefon Numarınızı Girin= \"))"
   ]
  },
  {
   "cell_type": "markdown",
   "metadata": {},
   "source": [
    "### Cevap 1:"
   ]
  },
  {
   "cell_type": "code",
   "execution_count": 9,
   "metadata": {},
   "outputs": [
    {
     "name": "stdout",
     "output_type": "stream",
     "text": [
      "0\n",
      "90\n",
      "[0, 1, 2, 3, 4, 5, 6, 7, 8, 9, 10, 11, 12, 13, 14, 15, 16, 17, 18, 19, 20, 21, 22, 23, 24, 25, 26, 27, 28, 29, 30, 31, 32, 33, 34, 35, 36, 37, 38, 39, 40, 41, 42, 43, 44, 45, 46, 47, 48, 49, 50, 51, 52, 53, 54, 55, 56, 57, 58, 59, 60, 61, 62, 63, 64, 65, 66, 67, 68, 69, 70, 71, 72, 73, 74, 75, 76, 77, 78, 79, 80, 81, 82, 83, 84, 85, 86, 87, 88, 89]\n",
      "4005\n",
      "44.5\n"
     ]
    }
   ],
   "source": [
    "a= no%10\n",
    "\n",
    "b=no%100\n",
    "\n",
    "print(a)\n",
    "print(b)\n",
    "\n",
    "liste = []\n",
    "\n",
    "for i in range(a, b):\n",
    "\n",
    "    liste.append(i)\n",
    "\n",
    "print(liste)\n",
    "\n",
    "toplam=0\n",
    "sonuc = 0\n",
    "\n",
    "for x in range(a, b):\n",
    "\n",
    "    toplam = toplam+x\n",
    "    \n",
    "sonuc = toplam/(len(liste))\n",
    "print (toplam)\n",
    "print(sonuc)"
   ]
  },
  {
   "cell_type": "markdown",
   "metadata": {},
   "source": [
    "### Soru 2:"
   ]
  },
  {
   "cell_type": "markdown",
   "metadata": {},
   "source": [
    "Alt satırdaki yazi degiskeni olan hücreyi çalıştırın ve for döngüsüyle bu yazının her harfini bir listeye eleman olarak aktarın.\n",
    "\n",
    "Not: Boşluklar ve noktalama işaretlerini listeye almamalısınız."
   ]
  },
  {
   "cell_type": "code",
   "execution_count": 10,
   "metadata": {},
   "outputs": [],
   "source": [
    "yazi = \"uludag deeplearning teknik bir topluluktur.\""
   ]
  },
  {
   "cell_type": "markdown",
   "metadata": {},
   "source": [
    "### Cevap 2:"
   ]
  },
  {
   "cell_type": "code",
   "execution_count": 11,
   "metadata": {},
   "outputs": [
    {
     "name": "stdout",
     "output_type": "stream",
     "text": [
      "['u', 'l', 'u', 'd', 'a', 'g', 'd', 'e', 'e', 'p', 'l', 'e', 'a', 'r', 'n', 'i', 'n', 'g', 't', 'e', 'k', 'n', 'i', 'k', 'b', 'i', 'r', 't', 'o', 'p', 'l', 'u', 'l', 'u', 'k', 't', 'u', 'r']\n"
     ]
    }
   ],
   "source": [
    "a=\"uludag deep learning teknik bir topluluktur.\"\n",
    "\n",
    "\n",
    "b = a.replace(\".\", \"\")\n",
    "c = b.replace(\" \", \"\")\n",
    " \n",
    "liste= list(c)\n",
    "\n",
    "print(liste)"
   ]
  },
  {
   "cell_type": "markdown",
   "metadata": {},
   "source": [
    "### Soru 3:\n",
    "\n",
    "Sigmoid fonksiyonunu, sigmoid adını verdiğiniz fonksiyonla tanımlayınız."
   ]
  },
  {
   "cell_type": "markdown",
   "metadata": {},
   "source": [
    "![sigmoid](sigmoid.jpg)"
   ]
  },
  {
   "cell_type": "code",
   "execution_count": 12,
   "metadata": {},
   "outputs": [],
   "source": [
    "# Örnek: \n",
    "def fonk_ornek(girdi):\n",
    "    pass #Burası koduna dahil olmayacak.\n",
    "    sonuc = islem1*islem2/girdi\n",
    "    return sonuc"
   ]
  },
  {
   "cell_type": "markdown",
   "metadata": {},
   "source": [
    "### Cevap 3:"
   ]
  },
  {
   "cell_type": "code",
   "execution_count": 13,
   "metadata": {},
   "outputs": [
    {
     "name": "stdout",
     "output_type": "stream",
     "text": [
      "0.9933071490757153\n"
     ]
    }
   ],
   "source": [
    "def sigmoid(x):\n",
    "\n",
    "        y = 1/(1+math.exp(-x))\n",
    "        \n",
    "        \n",
    "        return y \n",
    "\n",
    "print(sigmoid(5))"
   ]
  },
  {
   "cell_type": "markdown",
   "metadata": {},
   "source": [
    "## Numpy"
   ]
  },
  {
   "cell_type": "markdown",
   "metadata": {},
   "source": [
    "### Soru 1:\n",
    "\n",
    "5x5 boyutunda, sıfırlar, birler matrislerini oluşturun."
   ]
  },
  {
   "cell_type": "markdown",
   "metadata": {},
   "source": [
    "### Cevap 1:"
   ]
  },
  {
   "cell_type": "code",
   "execution_count": 29,
   "metadata": {},
   "outputs": [
    {
     "ename": "AttributeError",
     "evalue": "module 'numpy' has no attribute 'zeros'",
     "output_type": "error",
     "traceback": [
      "\u001b[0;31m---------------------------------------------------------------------------\u001b[0m",
      "\u001b[0;31mAttributeError\u001b[0m                            Traceback (most recent call last)",
      "\u001b[0;32m<ipython-input-29-b06178ff1f31>\u001b[0m in \u001b[0;36m<module>\u001b[0;34m\u001b[0m\n\u001b[1;32m      1\u001b[0m \u001b[0;32mimport\u001b[0m \u001b[0mnumpy\u001b[0m \u001b[0;32mas\u001b[0m \u001b[0mnp\u001b[0m\u001b[0;34m\u001b[0m\u001b[0;34m\u001b[0m\u001b[0m\n\u001b[1;32m      2\u001b[0m \u001b[0;34m\u001b[0m\u001b[0m\n\u001b[0;32m----> 3\u001b[0;31m \u001b[0ma\u001b[0m\u001b[0;34m=\u001b[0m\u001b[0mnp\u001b[0m\u001b[0;34m.\u001b[0m\u001b[0mzeros\u001b[0m\u001b[0;34m(\u001b[0m\u001b[0;34m(\u001b[0m\u001b[0;36m5\u001b[0m\u001b[0;34m,\u001b[0m\u001b[0;36m5\u001b[0m\u001b[0;34m)\u001b[0m\u001b[0;34m)\u001b[0m\u001b[0;34m\u001b[0m\u001b[0;34m\u001b[0m\u001b[0m\n\u001b[0m\u001b[1;32m      4\u001b[0m \u001b[0mb\u001b[0m\u001b[0;34m=\u001b[0m\u001b[0mnp\u001b[0m\u001b[0;34m.\u001b[0m\u001b[0mones\u001b[0m\u001b[0;34m(\u001b[0m\u001b[0;34m(\u001b[0m\u001b[0;36m5\u001b[0m\u001b[0;34m,\u001b[0m\u001b[0;36m5\u001b[0m\u001b[0;34m)\u001b[0m\u001b[0;34m)\u001b[0m\u001b[0;34m\u001b[0m\u001b[0;34m\u001b[0m\u001b[0m\n\u001b[1;32m      5\u001b[0m \u001b[0;34m\u001b[0m\u001b[0m\n",
      "\u001b[0;31mAttributeError\u001b[0m: module 'numpy' has no attribute 'zeros'"
     ]
    }
   ],
   "source": [
    "import numpy as np\n",
    "\n",
    "a=np.zeros((5,5))\n",
    "b=np.ones((5,5))\n",
    "\n",
    "print(a)\n",
    "print(b)\n",
    "c=np.random.rand(5,5)\n",
    "d=np.random.rand(5,5)\n",
    "print(c)\n",
    "print(d)\n"
   ]
  },
  {
   "cell_type": "markdown",
   "metadata": {},
   "source": [
    "### Soru 2:"
   ]
  },
  {
   "cell_type": "markdown",
   "metadata": {},
   "source": [
    "İki farklı 5x5 random sayılardan oluşan iki matris oluşturun. Bu matrisleri matris çarpımı yöntemiyle çarpın"
   ]
  },
  {
   "cell_type": "code",
   "execution_count": 30,
   "metadata": {},
   "outputs": [
    {
     "ename": "AttributeError",
     "evalue": "module 'numpy' has no attribute 'zeros'",
     "output_type": "error",
     "traceback": [
      "\u001b[0;31m---------------------------------------------------------------------------\u001b[0m",
      "\u001b[0;31mAttributeError\u001b[0m                            Traceback (most recent call last)",
      "\u001b[0;32m<ipython-input-30-5e8d2315c1eb>\u001b[0m in \u001b[0;36m<module>\u001b[0;34m\u001b[0m\n\u001b[0;32m----> 1\u001b[0;31m \u001b[0ma\u001b[0m\u001b[0;34m=\u001b[0m\u001b[0mnp\u001b[0m\u001b[0;34m.\u001b[0m\u001b[0mzeros\u001b[0m\u001b[0;34m(\u001b[0m\u001b[0;34m(\u001b[0m\u001b[0;36m5\u001b[0m\u001b[0;34m,\u001b[0m\u001b[0;36m5\u001b[0m\u001b[0;34m)\u001b[0m\u001b[0;34m)\u001b[0m\u001b[0;34m\u001b[0m\u001b[0;34m\u001b[0m\u001b[0m\n\u001b[0m\u001b[1;32m      2\u001b[0m \u001b[0mb\u001b[0m\u001b[0;34m=\u001b[0m\u001b[0mnp\u001b[0m\u001b[0;34m.\u001b[0m\u001b[0mones\u001b[0m\u001b[0;34m(\u001b[0m\u001b[0;34m(\u001b[0m\u001b[0;36m5\u001b[0m\u001b[0;34m,\u001b[0m\u001b[0;36m5\u001b[0m\u001b[0;34m)\u001b[0m\u001b[0;34m)\u001b[0m\u001b[0;34m\u001b[0m\u001b[0;34m\u001b[0m\u001b[0m\n\u001b[1;32m      3\u001b[0m \u001b[0;34m\u001b[0m\u001b[0m\n\u001b[1;32m      4\u001b[0m \u001b[0mprint\u001b[0m\u001b[0;34m(\u001b[0m\u001b[0ma\u001b[0m\u001b[0;34m)\u001b[0m\u001b[0;34m\u001b[0m\u001b[0;34m\u001b[0m\u001b[0m\n\u001b[1;32m      5\u001b[0m \u001b[0mprint\u001b[0m\u001b[0;34m(\u001b[0m\u001b[0mb\u001b[0m\u001b[0;34m)\u001b[0m\u001b[0;34m\u001b[0m\u001b[0;34m\u001b[0m\u001b[0m\n",
      "\u001b[0;31mAttributeError\u001b[0m: module 'numpy' has no attribute 'zeros'"
     ]
    }
   ],
   "source": [
    "a=np.zeros((5,5))\n",
    "b=np.ones((5,5))\n",
    "\n",
    "print(a)\n",
    "print(b)\n",
    "c=np.random.rand(5,5)\n",
    "d=np.random.rand(5,5)\n",
    "print(c)\n",
    "print(d)\n",
    "carp=c*d\n",
    "print(carp)"
   ]
  },
  {
   "cell_type": "markdown",
   "metadata": {},
   "source": [
    "### Soru 3:\n",
    "\n",
    "100 Uzunluklu bir liste oluşturun, önce tek ve çift sayıları döngülerle tek ve çift adlı iki listeye ayırın, bu iki listeyi 5x10 boyutunda iki matris haline getirin."
   ]
  },
  {
   "cell_type": "markdown",
   "metadata": {},
   "source": [
    "### Cevap 3:"
   ]
  },
  {
   "cell_type": "code",
   "execution_count": 25,
   "metadata": {},
   "outputs": [
    {
     "name": "stdout",
     "output_type": "stream",
     "text": [
      "[0, 1, 2, 3, 4, 5, 6, 7, 8, 9, 10, 11, 12, 13, 14, 15, 16, 17, 18, 19, 20, 21, 22, 23, 24, 25, 26, 27, 28, 29, 30, 31, 32, 33, 34, 35, 36, 37, 38, 39, 40, 41, 42, 43, 44, 45, 46, 47, 48, 49, 50, 51, 52, 53, 54, 55, 56, 57, 58, 59, 60, 61, 62, 63, 64, 65, 66, 67, 68, 69, 70, 71, 72, 73, 74, 75, 76, 77, 78, 79, 80, 81, 82, 83, 84, 85, 86, 87, 88, 89, 90, 91, 92, 93, 94, 95, 96, 97, 98, 99]\n",
      "ciftler= [0, 2, 4, 6, 8, 10, 12, 14, 16, 18, 20, 22, 24, 26, 28, 30, 32, 34, 36, 38, 40, 42, 44, 46, 48, 50, 52, 54, 56, 58, 60, 62, 64, 66, 68, 70, 72, 74, 76, 78, 80, 82, 84, 86, 88, 90, 92, 94, 96, 98]\n",
      "tekler= [1, 3, 5, 7, 9, 11, 13, 15, 17, 19, 21, 23, 25, 27, 29, 31, 33, 35, 37, 39, 41, 43, 45, 47, 49, 51, 53, 55, 57, 59, 61, 63, 65, 67, 69, 71, 73, 75, 77, 79, 81, 83, 85, 87, 89, 91, 93, 95, 97, 99]\n"
     ]
    },
    {
     "ename": "AttributeError",
     "evalue": "module 'numpy' has no attribute 'resize'",
     "output_type": "error",
     "traceback": [
      "\u001b[0;31m---------------------------------------------------------------------------\u001b[0m",
      "\u001b[0;31mAttributeError\u001b[0m                            Traceback (most recent call last)",
      "\u001b[0;32m<ipython-input-25-c891fb2a3f5c>\u001b[0m in \u001b[0;36m<module>\u001b[0;34m\u001b[0m\n\u001b[1;32m     21\u001b[0m \u001b[0;34m\u001b[0m\u001b[0m\n\u001b[1;32m     22\u001b[0m \u001b[0;34m\u001b[0m\u001b[0m\n\u001b[0;32m---> 23\u001b[0;31m \u001b[0ma\u001b[0m\u001b[0;34m=\u001b[0m\u001b[0mnp\u001b[0m\u001b[0;34m.\u001b[0m\u001b[0mresize\u001b[0m\u001b[0;34m(\u001b[0m\u001b[0mcift\u001b[0m\u001b[0;34m,\u001b[0m\u001b[0;34m(\u001b[0m\u001b[0;36m5\u001b[0m\u001b[0;34m,\u001b[0m\u001b[0;36m10\u001b[0m\u001b[0;34m)\u001b[0m\u001b[0;34m)\u001b[0m\u001b[0;34m\u001b[0m\u001b[0;34m\u001b[0m\u001b[0m\n\u001b[0m\u001b[1;32m     24\u001b[0m \u001b[0mprint\u001b[0m\u001b[0;34m(\u001b[0m\u001b[0ma\u001b[0m\u001b[0;34m)\u001b[0m\u001b[0;34m\u001b[0m\u001b[0;34m\u001b[0m\u001b[0m\n\u001b[1;32m     25\u001b[0m \u001b[0;34m\u001b[0m\u001b[0m\n",
      "\u001b[0;31mAttributeError\u001b[0m: module 'numpy' has no attribute 'resize'"
     ]
    }
   ],
   "source": [
    "import numpy as np \n",
    "import math\n",
    "\n",
    "liste = []\n",
    "cift = []\n",
    "tek = []\n",
    "for i in range(0, 100):\n",
    "\n",
    "    liste.append(i)\n",
    "\n",
    "    if (i%2==0):\n",
    "        cift.append(i)\n",
    "\n",
    "    else :\n",
    "\n",
    "        tek.append(i)\n",
    "\n",
    "print (liste)\n",
    "print(\"ciftler=\", cift)\n",
    "print(\"tekler=\", tek)\n",
    "\n",
    "\n",
    "a=np.resize(cift,(5,10))\n",
    "print(a)\n",
    "\n",
    "b=np.resize(tek,(5,10))\n",
    "print(b)"
   ]
  },
  {
   "cell_type": "markdown",
   "metadata": {},
   "source": [
    "### Soru 0: (Opsiyonel)"
   ]
  },
  {
   "cell_type": "markdown",
   "metadata": {},
   "source": [
    "Buradaki matematiksel ifadeleri python ile yazmanızı bekliyoruz. Aşağıda yazılan fonksiyonların her biri size ekstra bazı puanlar kazandıracaktır."
   ]
  },
  {
   "cell_type": "markdown",
   "metadata": {},
   "source": [
    "![1.](1.jpg \"1\")"
   ]
  },
  {
   "cell_type": "code",
   "execution_count": null,
   "metadata": {},
   "outputs": [],
   "source": []
  },
  {
   "cell_type": "markdown",
   "metadata": {},
   "source": [
    "![3.](3.jpg \"3\")"
   ]
  },
  {
   "cell_type": "code",
   "execution_count": null,
   "metadata": {},
   "outputs": [],
   "source": []
  },
  {
   "cell_type": "markdown",
   "metadata": {},
   "source": [
    "![2.](2.jpg \"2\")"
   ]
  },
  {
   "cell_type": "code",
   "execution_count": null,
   "metadata": {},
   "outputs": [],
   "source": []
  }
 ],
 "metadata": {
  "kernelspec": {
   "display_name": "Python 3",
   "language": "python",
   "name": "python3"
  },
  "language_info": {
   "codemirror_mode": {
    "name": "ipython",
    "version": 3
   },
   "file_extension": ".py",
   "mimetype": "text/x-python",
   "name": "python",
   "nbconvert_exporter": "python",
   "pygments_lexer": "ipython3",
   "version": "3.7.2"
  }
 },
 "nbformat": 4,
 "nbformat_minor": 2
}
